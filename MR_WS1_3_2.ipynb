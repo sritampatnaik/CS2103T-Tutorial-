{
  "cells": [
    {
      "cell_type": "markdown",
      "metadata": {
        "id": "view-in-github",
        "colab_type": "text"
      },
      "source": [
        "<a href=\"https://colab.research.google.com/github/sritampatnaik/CS2103T-Tutorial-/blob/master/MR_WS1_3_2.ipynb\" target=\"_parent\"><img src=\"https://colab.research.google.com/assets/colab-badge.svg\" alt=\"Open In Colab\"/></a>"
      ]
    },
    {
      "cell_type": "code",
      "source": [
        "from ortools.linear_solver import pywraplp\n",
        "print(\"OR-Tools installed and ready to use!\")"
      ],
      "metadata": {
        "id": "zZy2z30UEJuS",
        "outputId": "8a1814cb-b8b6-4e94-b9a5-eeb02bfc3257",
        "colab": {
          "base_uri": "https://localhost:8080/"
        }
      },
      "id": "zZy2z30UEJuS",
      "execution_count": 1,
      "outputs": [
        {
          "output_type": "stream",
          "name": "stdout",
          "text": [
            "OR-Tools installed and ready to use!\n"
          ]
        }
      ]
    },
    {
      "cell_type": "code",
      "source": [
        "import sys\n",
        "from ortools.constraint_solver import pywrapcp\n",
        "\n",
        "\n",
        "def main(board_size):\n",
        "    # Creates the solver.\n",
        "    solver = pywrapcp.Solver(\"n-queens\")\n",
        "\n",
        "    # Creates the variables.\n",
        "    # The array index is the column, and the value is the row.\n",
        "    queens = [solver.IntVar(0, board_size - 1, f\"x{i}\") for i in range(board_size)]\n",
        "\n",
        "    for item in queens:\n",
        "      print(item)\n",
        "\n",
        "\n",
        "if __name__ == \"__main__\":\n",
        "    # By default, solve the 8x8 problem.\n",
        "    size = 6\n",
        "    # if len(sys.argv) > 1:\n",
        "    #     size = int(sys.argv[1])\n",
        "    main(size)\n",
        "\n"
      ],
      "metadata": {
        "id": "N5NQrVUOGowP",
        "outputId": "f5e41609-a099-42eb-9297-8192381acb7a",
        "colab": {
          "base_uri": "https://localhost:8080/"
        }
      },
      "id": "N5NQrVUOGowP",
      "execution_count": 6,
      "outputs": [
        {
          "output_type": "stream",
          "name": "stdout",
          "text": [
            "x0(0..5)\n",
            "x1(0..5)\n",
            "x2(0..5)\n",
            "x3(0..5)\n",
            "x4(0..5)\n",
            "x5(0..5)\n"
          ]
        }
      ]
    },
    {
      "cell_type": "code",
      "source": [
        "import sys\n",
        "from ortools.constraint_solver import pywrapcp\n",
        "\n",
        "\n",
        "def main(board_size):\n",
        "    # Creates the solver.\n",
        "    solver = pywrapcp.Solver(\"n-queens\")\n",
        "\n",
        "    # Creates the variables.\n",
        "    # The array index is the column, and the value is the row.\n",
        "    queens = [solver.IntVar(0, board_size - 1, f\"x{i}\") for i in range(board_size)]\n",
        "\n",
        "    # Creates the constraints.\n",
        "    # All rows must be different.\n",
        "    solver.Add(solver.AllDifferent(queens))\n",
        "\n",
        "    # No two queens can be on the same diagonal.\n",
        "    solver.Add(solver.AllDifferent([queens[i] + i for i in range(board_size)]))\n",
        "    solver.Add(solver.AllDifferent([queens[i] - i for i in range(board_size)]))\n",
        "\n",
        "    db = solver.Phase(queens, solver.CHOOSE_FIRST_UNBOUND, solver.ASSIGN_MIN_VALUE)\n",
        "\n",
        "    # Iterates through the solutions, displaying each.\n",
        "    num_solutions = 0\n",
        "    solver.NewSearch(db)\n",
        "    while solver.NextSolution():\n",
        "        # Displays the solution just computed.\n",
        "        for i in range(board_size):\n",
        "            for j in range(board_size):\n",
        "                if queens[j].Value() == i:  # Queen is placed at (i, j)\n",
        "                    print(\"Q\", end=\" \")\n",
        "                else:\n",
        "                    print(\".\", end=\" \")  # Empty space\n",
        "            print()\n",
        "        print()\n",
        "        num_solutions += 1\n",
        "    solver.EndSearch()\n",
        "\n",
        "    # Statistics.\n",
        "    print(\"\\nStatistics\")\n",
        "    print(f\"  failures: {solver.Failures()}\")\n",
        "    print(f\"  branches: {solver.Branches()}\")\n",
        "    print(f\"  wall time: {solver.WallTime()} ms\")\n",
        "    print(f\"  Solutions found: {num_solutions}\")\n",
        "\n",
        "\n",
        "if __name__ == \"__main__\":\n",
        "    # By default, solve the 8x8 problem.\n",
        "    size = 64\n",
        "    # if len(sys.argv) > 1:\n",
        "    #     size = int(sys.argv[1])\n",
        "    main(size)"
      ],
      "metadata": {
        "id": "hgTbbfXDB5zk"
      },
      "id": "hgTbbfXDB5zk",
      "execution_count": null,
      "outputs": []
    }
  ],
  "metadata": {
    "kernelspec": {
      "display_name": "Python 3 (ipykernel)",
      "language": "python",
      "name": "python3"
    },
    "language_info": {
      "codemirror_mode": {
        "name": "ipython",
        "version": 3
      },
      "file_extension": ".py",
      "mimetype": "text/x-python",
      "name": "python",
      "nbconvert_exporter": "python",
      "pygments_lexer": "ipython3",
      "version": "3.9.19"
    },
    "colab": {
      "provenance": [],
      "include_colab_link": true
    }
  },
  "nbformat": 4,
  "nbformat_minor": 5
}